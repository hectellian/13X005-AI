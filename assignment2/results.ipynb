{
 "cells": [
  {
   "cell_type": "markdown",
   "metadata": {},
   "source": [
    "# TP2 - AI : Heuristic Research and Constraint Satisfaction Problems\n",
    "---\n",
    "_Author: CHRISTOFOROU Anthony_\\\n",
    "_Due Date: 25-10-2023_\\\n",
    "_Updated: 18-10-2023_\\\n",
    "_Description: TP2 - AI_\n",
    "\n",
    "---"
   ]
  },
  {
   "cell_type": "code",
   "execution_count": 1,
   "metadata": {},
   "outputs": [],
   "source": [
    "# Libraries\n",
    "import matplotlib\n",
    "\n",
    "# Modules\n",
    "\n",
    "# make figures appear inline\n",
    "matplotlib.rcParams['figure.figsize'] = (15, 8)\n",
    "%matplotlib inline\n",
    "\n",
    "# notebook will reload external python modules;\n",
    "# see http://stackoverflow.com/questions/1907993/autoreload-of-modules-in-ipython\n",
    "%load_ext autoreload\n",
    "%autoreload 2"
   ]
  },
  {
   "cell_type": "markdown",
   "metadata": {},
   "source": [
    "## 1. A* Algorithm"
   ]
  },
  {
   "cell_type": "markdown",
   "metadata": {},
   "source": [
    "### 1.1. Blind Search\n",
    "\n",
    "The directed graph shown in *Figure 1* represents the state space of a certain problem, with the transition costs denoted by the numbers on the edges. The initial state, $S_I$​, is denoted by \"S\" and the goal state, $S_G$, is denoted by \"G\". We aim to traverse this graph to reach the goal state from the initial state using a blind search algorithm. Specifically, we will employ the Breadth-First Search (BFS) algorithm.\n",
    "\n",
    "**Breadth-First Search (BFS) Development:**\n",
    "\n",
    "Given the provided directed graph, we can use BFS starting from node **S** to reach node **G**.\n",
    "\n",
    "<div class=\"alert alert-info\">\n",
    "We are going to search by alphabetical order, so <b>A</b> is visited before <b>F</b>.\n",
    "</div>\n",
    "\n",
    "**Development Table:**\n",
    "\n",
    "| Node | Parent | Cost |\n",
    "|------|--------|------|\n",
    "| S    | -      | -    |\n",
    "| A    | S      | 2    |\n",
    "| F    | S      | 7    |\n",
    "| C    | A      | 6    |\n",
    "| H    | F      | 9    |\n",
    "| G    | F      | 12   |\n",
    "| D    | C      | 9    |\n",
    "\n",
    "**Search Tree:**\n",
    "\n",
    "```\n",
    "      S\n",
    "     / \\\n",
    "    A   F\n",
    "   /   / \\\n",
    "  C   G   H\n",
    " /       \n",
    "D \n",
    "```\n"
   ]
  },
  {
   "cell_type": "markdown",
   "metadata": {},
   "source": [
    "### 1.2 Heuristic Search"
   ]
  }
 ],
 "metadata": {
  "kernelspec": {
   "display_name": "assignment2-Rmv_JZzc-py3.10",
   "language": "python",
   "name": "python3"
  },
  "language_info": {
   "codemirror_mode": {
    "name": "ipython",
    "version": 3
   },
   "file_extension": ".py",
   "mimetype": "text/x-python",
   "name": "python",
   "nbconvert_exporter": "python",
   "pygments_lexer": "ipython3",
   "version": "3.11.5"
  }
 },
 "nbformat": 4,
 "nbformat_minor": 2
}
