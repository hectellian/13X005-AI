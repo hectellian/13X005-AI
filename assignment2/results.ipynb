{
 "cells": [
  {
   "cell_type": "markdown",
   "metadata": {},
   "source": [
    "# TP2 - AI : Heuristic Research and Constraint Satisfaction Problems\n",
    "---\n",
    "_Author: CHRISTOFOROU Anthony_\\\n",
    "_Due Date: 25-10-2023_\\\n",
    "_Updated: 18-10-2023_\\\n",
    "_Description: TP2 - AI_\n",
    "\n",
    "---"
   ]
  },
  {
   "cell_type": "code",
   "execution_count": 1,
   "metadata": {},
   "outputs": [],
   "source": [
    "# Libraries\n",
    "import matplotlib\n",
    "from IPython.display import HTML\n",
    "from typing import List, Tuple\n",
    "\n",
    "# Modules\n",
    "from assignment2.datastructures.node import Node\n",
    "from assignment2.datastructures.variable import Variable\n",
    "from assignment2.datastructures.constraint import HouseConstraint\n",
    "from assignment2.datastructures.csp import CSP\n",
    "\n",
    "from assignment2.algorithms.greedy_search import GreedyBestFirstSearch\n",
    "from assignment2.algorithms.backtracking import BacktrackingSolver\n",
    "\n",
    "from assignment2.visualisations.visualise import SearchPathVisualizer\n",
    "\n",
    "# make figures appear inline\n",
    "matplotlib.rcParams['figure.figsize'] = (15, 8)\n",
    "%matplotlib inline\n",
    "\n",
    "# notebook will reload external python modules;\n",
    "# see http://stackoverflow.com/questions/1907993/autoreload-of-modules-in-ipython\n",
    "%load_ext autoreload\n",
    "%autoreload 2"
   ]
  },
  {
   "cell_type": "markdown",
   "metadata": {},
   "source": [
    "## 1. A* Algorithm"
   ]
  },
  {
   "cell_type": "markdown",
   "metadata": {},
   "source": [
    "![graph](./img/graph.png)"
   ]
  },
  {
   "cell_type": "markdown",
   "metadata": {},
   "source": [
    "### 1.1. Blind Search\n",
    "\n",
    "The directed graph shown in *Figure 1* represents the state space of a certain problem, with the transition costs denoted by the numbers on the edges. The initial state, $S_I$​, is denoted by \"S\" and the goal state, $S_G$, is denoted by \"G\". We aim to traverse this graph to reach the goal state from the initial state using a blind search algorithm. Specifically, we will employ the Breadth-First Search (BFS) algorithm.\n",
    "\n",
    "**Breadth-First Search (BFS) Development:**\n",
    "\n",
    "Given the provided directed graph, we can use BFS starting from node **S** to reach node **G**.\n",
    "\n",
    "<div class=\"alert alert-info\">\n",
    "We are going to search by alphabetical order, so <b>A</b> is visited before <b>F</b>.\n",
    "</div>\n",
    "\n",
    "**Development Table:**\n",
    "\n",
    "| Node | Parent | Cost |\n",
    "|------|--------|------|\n",
    "| S    | -      | -    |\n",
    "| A    | S      | 2    |\n",
    "| F    | S      | 7    |\n",
    "| C    | A      | 6    |\n",
    "| H    | F      | 9    |\n",
    "| G    | F      | 12   |\n",
    "| D    | C      | 9    |\n",
    "\n",
    "**Search Tree:**\n",
    "\n",
    "```\n",
    "      S\n",
    "     / \\\n",
    "    A   F\n",
    "   /   / \\\n",
    "  C   G   H\n",
    " /       \n",
    "D \n",
    "```\n"
   ]
  },
  {
   "cell_type": "markdown",
   "metadata": {},
   "source": [
    "### 1.2 Heuristic Search\n",
    "\n",
    "The following table shows the heuristic $h(n)$ estimating the cost of the path until the goal state for each node $n$ in the graph.\n",
    "\n",
    "| State | S | A | C | D | F | G | H |\n",
    "|-----------|-------|-------|-------|-------|-------|-------|-------|\n",
    "| **h(n)**  | 10    | 5     | 4     | 3     | 4     | 0     | 2     |"
   ]
  },
  {
   "cell_type": "markdown",
   "metadata": {},
   "source": [
    "1. Let's show that this heuristic function is admissible and why:\n",
    "\n",
    "**Definition**: A heuristic function $h(n)$ is said to be admissible if, for every node $n$ of the graph, $h(n)$ never overestimates the true cost to reach the goal node from $n$.\n",
    "\n",
    "Given the heuristic values in the table above, to determine if $h$ is admissible, we would have to ensure that for each state, the heuristic value is less than or equal to the actual cost from that state to the goal state G.\n",
    "\n",
    "This means that formally if we define the actual cost from state $n$ to the goal state $G$ as $c(n, G)$, then we would have to ensure that for each state $n$:\n",
    "\n",
    "$$h(n) \\leq c(n, G)$$\n",
    "\n",
    "let's check this for each state using the cheapest path from each state to the goal state:\n",
    "\n",
    "- $h(S) = 10 \\leq c(S, G) = 11$ : **True**\n",
    "- $h(A) = 5 \\leq c(A, G) = 9$ : **True**\n",
    "- $h(C) = 4 \\leq c(C, G) = 5$ : **True**\n",
    "- $h(D) = 3 \\leq c(D, G) = 3$ : **True**\n",
    "- $h(F) = 4 \\leq c(F, G) = 5$ : **True**\n",
    "- $h(G) = 0 \\leq c(G, G) = 0$ : **True**\n",
    "- $h(H) = 2 \\leq c(H, G) = \\varnothing$ : **True** (A cost of 2 is better than an impossible cost)"
   ]
  },
  {
   "cell_type": "markdown",
   "metadata": {},
   "source": [
    "2. Now, let's show that this heuristic function is consistent and why:\n",
    "\n",
    "**Definition**: A heuristic function $h(n)$ is said to be consistent (or monotone) if, for every node $n$ of the graph and for every successor $n'$ of $n$ with step cost $c(n, n')$, we have that:\n",
    "\n",
    "$$h(n) \\leq c(n, n') + h(n')$$\n",
    "\n",
    "Given the heuristic values in the table above, to determine if $h$ is consistent, we would have to ensure that for each state, the heuristic value is less than or equal to the actual cost from that state to the goal state G.\n",
    "\n",
    "To prove that $h$ is not consistent, we need to find a state $n$ and one of its successors $n'$ such that $h(n) > c(n, n') + h(n')$. In our case we can take $n = S$ and $n' = A$:\n",
    "\n",
    "$$h(S) = 10 > c(S, A) + h(A) = 2 + 5 = 7$$ \n",
    "\n",
    "This does not satisfy the consistency condition, **so $h$ is not consistent**."
   ]
  },
  {
   "cell_type": "markdown",
   "metadata": {},
   "source": [
    "3. What are the evaluation functions used by the greedy best first search and the A* algorithm?\n",
    "\n",
    "- **Greedy Best First Search**: $f(n) = h(n)$\n",
    "\n",
    "> This method selects the node based on the heuristic value alone. It aims to expand the node that is closest to the goal, as estimated by the heuristic function.\n",
    "\n",
    "- **A\\* Algorithm**: $f(n) = g(n) + h(n)$\n",
    "\n",
    "> Where:\n",
    "> \n",
    "> - $g(n)$ is the cost of the path from the start node to $n$\n",
    "> - $h(n)$ is the estimated cost from $n$ to the goal node (heuristic function)\n",
    "> \n",
    "> The A* algorithm considers both the cost to reach the current node and the estimated cost from the current node to the goal."
   ]
  },
  {
   "cell_type": "markdown",
   "metadata": {},
   "source": [
    "4. Let's implement the **Greedy Best First Search**"
   ]
  },
  {
   "cell_type": "code",
   "execution_count": 2,
   "metadata": {},
   "outputs": [],
   "source": [
    "# defining the graph and the functions\n",
    "\n",
    "GRAPH = {\n",
    "    'S': [('F'), ('A')],\n",
    "    'F': [('H'), ('G'), ('A')],\n",
    "    'A': [('C'), ('F')],\n",
    "    'C': [('D'), ('G')],\n",
    "    'D': [('G')],\n",
    "    'G': [],\n",
    "    'H': []\n",
    "}\n",
    "HEURISTIC = {\n",
    "    'S': 10,\n",
    "    'A': 5,\n",
    "    'C': 4,\n",
    "    'D': 3,\n",
    "    'F': 4,\n",
    "    'G': 0,\n",
    "    'H': 2\n",
    "}\n",
    "ALL_EDGES = [\n",
    "    ('S', 'F'), \n",
    "    ('S', 'A'), \n",
    "    ('F', 'H'), \n",
    "    ('F', 'G'), \n",
    "    ('F', 'A'), \n",
    "    ('A', 'C'), \n",
    "    ('A', 'F'), \n",
    "    ('C', 'D'), \n",
    "    ('C', 'G'), \n",
    "    ('D', 'G')\n",
    "]\n",
    "\n",
    "def successors(state: str) -> List[Tuple[str, float]]:\n",
    "    return GRAPH.get(state, [])\n",
    "\n",
    "def heuristic(state: str) -> float:\n",
    "    return HEURISTIC.get(state, float('inf'))  # Return a large value for states not in the heuristic\n"
   ]
  },
  {
   "cell_type": "code",
   "execution_count": 3,
   "metadata": {},
   "outputs": [
    {
     "name": "stdout",
     "output_type": "stream",
     "text": [
      "Path found: [S, F, G]\n"
     ]
    }
   ],
   "source": [
    "# Define start node and goal state\n",
    "start_node = Node(\"S\")\n",
    "goal_state = \"G\"\n",
    "\n",
    "# search algorithm\n",
    "gbfs = GreedyBestFirstSearch(successors=successors, heuristic=heuristic) # Initialise the search algorithm\n",
    "path = gbfs.execute(start_node, goal_state, logging=True) # Execute the search\n",
    "\n",
    "if path is None:\n",
    "    print(\"No path found\")\n",
    "else:\n",
    "    print(\"Path found:\", path)"
   ]
  },
  {
   "cell_type": "code",
   "execution_count": 4,
   "metadata": {},
   "outputs": [
    {
     "data": {
      "image/png": "[encoded data removed]",
      "text/plain": [
       "<Figure size 1500x800 with 1 Axes>"
      ]
     },
     "metadata": {},
     "output_type": "display_data"
    }
   ],
   "source": [
    "spv = SearchPathVisualizer(ALL_EDGES) # Initialise the search path visualiser\n",
    "spv.plot_search_path(path) # Visualise the search path"
   ]
  },
  {
   "cell_type": "markdown",
   "metadata": {},
   "source": [
    "5. How could we modify this algorithm to make it into the A* algorithm?\n",
    "\n",
    "- Instead of using the heuristic function $h(n)$, we use the evaluation function $f(n) = g(n) + h(n)$\n",
    "- When exploring a node, we add the cost of the path from the start node to the current node as $g(n)$"
   ]
  },
  {
   "cell_type": "markdown",
   "metadata": {},
   "source": [
    "6. Let's build the search trees for both algorithms and compare them. We will first make a table of the nodes expanded by each algorithm with the order of expansion and the evaluation function value at each node and its parent.\n",
    "\n",
    "#### **Greedy Best First Search**\n",
    "\n",
    "| Node | Value | Parent |\n",
    "|------|-------|--------|\n",
    "| S    | 10    | -      |\n",
    "| A    | 5     | S      |\n",
    "| F    | 4     | S      |\n",
    "| G    | 0     | F      |\n",
    "| H    | 2     | F      |\n",
    "\n",
    "**Search Tree:**\n",
    "\n",
    "```\n",
    "      S\n",
    "     / \\\n",
    "    A   F\n",
    "       / \\\n",
    "      G   H\n",
    "```\n",
    "\n",
    "Here the value of the evaluation function is $f(n) = h(n)$, so we expand the node with the lowest heuristic value.\n",
    "\n",
    "#### **A\\* Algorithm**\n",
    "\n",
    "| Node | Value | Parent |\n",
    "|------|-------|--------|\n",
    "| S    | 10    | -      |\n",
    "| A    | 7     | S      |\n",
    "| F    | 11    | S      |\n",
    "| C    | 10    | A      |\n",
    "| D    | 12    | C      |\n",
    "| G    | 11    | C      |\n",
    "\n",
    "**Search Tree:**\n",
    "\n",
    "```\n",
    "      S\n",
    "     / \\\n",
    "    A   F\n",
    "   /  \n",
    "  C  \n",
    " / \\\n",
    "D   G\n",
    "```\n",
    "\n",
    "Here the value of the evaluation function is $f(n) = g(n) + h(n)$, so we get:\n",
    "\n",
    "- $f(S) = g(S) + h(S) = 0 + 10 = 10$\n",
    "- $f(A) = g(A) + h(A) = 2 + 5 = 7$\n",
    "- $f(F) = g(F) + h(F) = 7 + 4 = 11$\n",
    "- $\\ldots$\n",
    "\n",
    "<div class=\"alert alert-info\">\n",
    "Again, we are doing a search by alphabetical order, so <b>A</b> is visited before <b>F</b>, that way we don't have to put all the nodes in the table.\n",
    "</div>"
   ]
  },
  {
   "cell_type": "markdown",
   "metadata": {},
   "source": [
    "## 2 Constraint Satisfaction Problems\n",
    "\n",
    "An architect needs to build a house with 4 rooms (1,2,3,4) organized as follows:\n",
    "\n",
    "![House Organization](./img/house.png)\n",
    "\n",
    "- The left side of the house consists of rooms 1 and 2, while the right side consists of rooms 3 and 4.\n",
    "- Two rooms are adjacent if they share a complete wall (for example, room 2 is adjacent to rooms 1 and 3 but not to room 4).\n",
    "\n",
    "You must decide where to place the basement $C$ (one of the four rooms), a window $F$, and an exterior door $P$. The future homeowners of the house have given the following constraints:\n",
    "\n",
    "- $F$ cannot be in room $C$, nor in one of the rooms adjacent to $C$.\n",
    "- $C$ and $P$ cannot be on the same side (left or right) of the house.\n",
    "- The room containing $F$ must be adjacent to at least two rooms.\n",
    "- The room containing $P$ must also be adjacent to at least two rooms."
   ]
  },
  {
   "cell_type": "markdown",
   "metadata": {},
   "source": [
    "### 2.1 Problem Formulation in the form of a CSP\n",
    "\n",
    "Let's define the variables, domains and constraints of the problem:\n",
    "\n",
    "1. **Variables:**\n",
    "\n",
    "The variables in this problem, in the context of a Constraint Satisfaction Problem (CSP), represent the decisions that need to be made, namely:\n",
    "\n",
    "- $C$: The basement\n",
    "- $F$: The window\n",
    "- $P$: The exterior door\n",
    "\n",
    "Thus, we can define the set of variables as:\n",
    "\n",
    "$$x_i, \\quad \\forall i \\in \\{C, F, P\\}$$\n",
    "\n",
    "This representation isn't unique, we could have chosen to represent the variables as the rooms in the house, but this would have made the constraints more complicated.\n",
    "We choose this representation as it as the least number of variables.\n",
    "\n",
    "2. **Domains:**\n",
    "\n",
    "The domains of the variables represent the possible values that each variable can take. In this case, the domains are the rooms in the house, so we can define the set of domains as:\n",
    "\n",
    "$$D_i = \\{1, 2, 3, 4\\}, \\quad \\forall i \\in \\{C, F, P\\}$$\n",
    "\n",
    "3. **Constraints:**\n",
    "\n",
    "We saw in the previous section that the future homeowners of the house have given the 4 following constraints:\n",
    "\n",
    "1. $ F $ cannot be in $ C $, nor in one of the rooms adjacent to $ C $.\n",
    "2. $ C $ and $ P $ cannot be on the same side of the house.\n",
    "3. The room containing $ F $ must be adjacent to at least two rooms.\n",
    "4. The room containing $ P $ must also be adjacent to at least two rooms.\n",
    "\n",
    "**Representation of constraints:**\n",
    "\n",
    "1. For the first constraint:  (**Binary Constraint**)\n",
    "   - If $ x_C = 1 $, then $ x_P $ cannot be 1 or 2.\n",
    "   - If $ x_C = 2 $, then $ x_P $ cannot be 1, 2, or 3.\n",
    "   - If $ x_C = 3 $, then $ x_P $ cannot be 2, 3, or 4.\n",
    "   - If $ x_C = 4 $, then $ x_P $ cannot be 3 or 4.\n",
    "\n",
    "   $ c_1 = < x_C, x_F >: <1, 3>, <1, 4>, <2, 4>, <3, 1>, <4, 1>, <4, 2> $\n",
    "\n",
    "2. For the second constraint: (**Binary Constraint**) \\\n",
    "   $ C $ and $ P $ can't be on the same side. Thus:\\\n",
    "   $ c_2 = < x_C, x_P >: <1, 3>, <1, 4>, <2, 3>, <2, 4>, <3, 1>, <3, 2>, <4, 1>, <4, 2> $\n",
    "\n",
    "3. For the third constraint: (**Unary Constraint**) \\\n",
    "   $ F $ must be adjacent to at least two rooms. This means $ x_2 $ can be 2 or 3 only.\\\n",
    "   $ c_3 = < x_F >: <2>, <3> $\n",
    "\n",
    "4. For the fourth constraint: (**Unary Constraint**) \\\n",
    "   $ P $ must also be adjacent to at least two rooms. This means $ x_3 $ can be 2 or 3 only.\\\n",
    "   $ c_4 = < x_P >: <2>, <3> $"
   ]
  },
  {
   "cell_type": "markdown",
   "metadata": {},
   "source": [
    "### 2.2 Backtracking Search\n",
    "\n",
    "Let's implement the backtracking search algorithm to solve this problem.\n",
    "\n",
    "Using the constraints $c_3$ and $c_4$, we can reduce the domains of $F$ and $P$ to:\n",
    "\n",
    "- $D_F = \\{2, 3\\}$\n",
    "- $D_P = \\{2, 3\\}$\n",
    "\n",
    "<div class=\"alert alert-info\">\n",
    "We are going to assign the variables in alphabetical order, so <b>C</b> is assigned before <b>F</b> and <b>P</b>.\n",
    "</div>"
   ]
  },
  {
   "cell_type": "code",
   "execution_count": 5,
   "metadata": {},
   "outputs": [
    {
     "name": "stdout",
     "output_type": "stream",
     "text": [
      "Solutions found: [{'C': 1, 'F': 3, 'P': 3}, {'C': 4, 'F': 2, 'P': 2}]\n"
     ]
    }
   ],
   "source": [
    "# Create variables\n",
    "C = Variable(name='C', domain=[1, 2, 3, 4])\n",
    "F = Variable(name='F', domain=[2, 3])\n",
    "P = Variable(name='P', domain=[2, 3])\n",
    "\n",
    "# Create constraints\n",
    "house_constraint = HouseConstraint([C, F, P])\n",
    "\n",
    "# Create CSP problem\n",
    "csp = CSP(variables=[C, F, P], constraints=[house_constraint])\n",
    "\n",
    "\n",
    "solver = BacktrackingSolver(csp)\n",
    "solution = solver.solve()\n",
    "\n",
    "print(f\"Solutions found: {solution}\")"
   ]
  },
  {
   "cell_type": "markdown",
   "metadata": {},
   "source": [
    "### AC3 Algorithm\n",
    "\n",
    "Let's use the AC-3 (Arc-Consistency 3) algorithm to reduce the domain of the variables using the unary constraints and then propagate those constraints.\n",
    "\n",
    "**Initial Domains** (based on the problem):\n",
    "$$ D(x_C) = D(x_F) = D(x_P) = \\{1, 2, 3, 4\\} $$\n",
    "\n",
    "**Applying Unary Constraints**:\n",
    "1. $ c_3 $: $ x_F $ can be 2 or 3.\n",
    "$$ D(x_F) = \\{2, 3\\} $$\n",
    "\n",
    "1. $ c_4 $: $ x_P $ can be 2 or 3.\n",
    "$$ D(x_P) = \\{2, 3\\} $$\n",
    "\n",
    "**Applying AC-3 Algorithm**:\n",
    "- We enqueue all the arcs in the queue.\n",
    "- For each arc $ (x_i, x_j) $, we check for consistency. If a value in the domain of $ x_i $ has no consistent value in the domain of $ x_j $, we remove that value from $ D(x_i) $ and enqueue all arcs $ (x_k, x_i) $ where $ k \\neq j $.\n",
    "\n",
    "Starting with the binary constraints:\n",
    "\n",
    "1. $ c_1 $:\n",
    "- For $ x_C = 1 $, $ x_F $ cannot be 1 or 2. Since the domain of $ x_F $ is already \\{2, 3\\}, no reduction occurs.\n",
    "- Similarly, for the other values of $ x_C $, the domain of $ x_F $ remains consistent.\n",
    "\n",
    "2. $ c_2 $:\n",
    "- For $ x_C = 1 $ or $ x_C = 2 $, $ x_P $ can be 3 or 4. However, since the domain of $ x_P $ is already \\{2, 3\\}, it gets reduced to just \\{3\\}.\n",
    "- For $ x_C = 3 $ or $ x_C = 4 $, $ x_P $ can be 1 or 2. But the domain of $ x_P $ remains consistent with \\{3\\}.\n",
    "\n",
    "After the propagation using AC-3:\n",
    "$$ D(x_C) = \\{1, 2, 3, 4\\} $$\n",
    "$$ D(x_F) = \\{2, 3\\} $$\n",
    "$$ D(x_P) = \\{3\\} $$\n",
    "\n",
    "Thus, after the application of AC-3:\n",
    "- The domain of $ x_C $ remains unchanged.\n",
    "- The domain of $ x_F $ is reduced to \\{2, 3\\} due to the unary constraint.\n",
    "- The domain of $ x_P $ is further reduced to \\{3\\} after propagation."
   ]
  }
 ],
 "metadata": {
  "kernelspec": {
   "display_name": "assignment2-Rmv_JZzc-py3.10",
   "language": "python",
   "name": "python3"
  },
  "language_info": {
   "codemirror_mode": {
    "name": "ipython",
    "version": 3
   },
   "file_extension": ".py",
   "mimetype": "text/x-python",
   "name": "python",
   "nbconvert_exporter": "python",
   "pygments_lexer": "ipython3",
   "version": "3.10.12"
  }
 },
 "nbformat": 4,
 "nbformat_minor": 2
}
