{
 "cells": [
  {
   "cell_type": "markdown",
   "metadata": {},
   "source": [
    "# TP2 - AI : Heuristic Research and Constraint Satisfaction Problems\n",
    "---\n",
    "_Author: CHRISTOFOROU Anthony_\\\n",
    "_Due Date: XX-XX-2023_\\\n",
    "_Updated: 27-10-2023_\\\n",
    "_Description: TP3 - AI_\n",
    "\n",
    "---"
   ]
  },
  {
   "cell_type": "code",
   "execution_count": 20,
   "metadata": {},
   "outputs": [
    {
     "name": "stdout",
     "output_type": "stream",
     "text": [
      "The autoreload extension is already loaded. To reload it, use:\n",
      "  %reload_ext autoreload\n"
     ]
    }
   ],
   "source": [
    "# Libraries\n",
    "import matplotlib\n",
    "from typing import List, Tuple\n",
    "\n",
    "# Modules\n",
    "from assignment3.games.tic_tac_toe.game import TicTacToeGame\n",
    "from assignment3.games.tic_tac_toe.board import TicTacToeBoard \n",
    "\n",
    "# make figures appear inline\n",
    "matplotlib.rcParams['figure.figsize'] = (15, 8)\n",
    "%matplotlib inline\n",
    "\n",
    "# notebook will reload external python modules;\n",
    "# see http://stackoverflow.com/questions/1907993/autoreload-of-modules-in-ipython\n",
    "%load_ext autoreload\n",
    "%autoreload 2"
   ]
  },
  {
   "cell_type": "markdown",
   "metadata": {},
   "source": [
    "## 1. Tic-Tac-Toe, MiniMax and Alpha-Beta Pruning"
   ]
  },
  {
   "cell_type": "code",
   "execution_count": 21,
   "metadata": {},
   "outputs": [
    {
     "name": "stdout",
     "output_type": "stream",
     "text": [
      "X |   |  \n",
      "  |   |  \n",
      "  |   |  \n",
      "X |   |  \n",
      "  | O |  \n",
      "  |   |  \n",
      "X | X |  \n",
      "  | O |  \n",
      "  |   |  \n",
      "X | X |  \n",
      "  | O | O\n",
      "  |   |  \n",
      "X | X | X\n",
      "  | O | O\n",
      "  |   |  \n",
      "Player X wins!\n"
     ]
    }
   ],
   "source": [
    "# Let's simulate a game of Tic-Tac-Toe\n",
    "game = TicTacToeGame()\n",
    "\n",
    "# These are the moves in the format (x, y) where x is the row and y is the column\n",
    "moves = [(0, 0), (1, 1), (0, 1), (1, 2), (0, 2)]\n",
    "\n",
    "for x, y in moves:\n",
    "    game_over, winner = game.step(x, y)\n",
    "    game.render()\n",
    "    if game_over:\n",
    "        if winner != 'Draw':\n",
    "            print(f\"Player {winner} wins!\")\n",
    "        else:\n",
    "            print(\"It's a draw!\")\n",
    "        break"
   ]
  }
 ],
 "metadata": {
  "kernelspec": {
   "display_name": "assignment3-JP4i25DS-py3.11",
   "language": "python",
   "name": "python3"
  },
  "language_info": {
   "codemirror_mode": {
    "name": "ipython",
    "version": 3
   },
   "file_extension": ".py",
   "mimetype": "text/x-python",
   "name": "python",
   "nbconvert_exporter": "python",
   "pygments_lexer": "ipython3",
   "version": "3.11.6"
  }
 },
 "nbformat": 4,
 "nbformat_minor": 2
}
