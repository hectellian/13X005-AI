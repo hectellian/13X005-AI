{
 "cells": [
  {
   "cell_type": "markdown",
   "metadata": {},
   "source": [
    "# TP1 - AI : Formalisation\n",
    "\n",
    "---"
   ]
  },
  {
   "cell_type": "markdown",
   "metadata": {},
   "source": [
    "### 1. Les trois medecins\n",
    "\n",
    "#### 1.1 Description\n",
    "\n",
    "Alice, Bob et Charles sont trois patients suivis par les médecins Xavier,\n",
    "Yolande et Zoé. \n",
    "\n",
    "Aujourd’hui, ces 6 personnes doivent être transférées de\n",
    "l’Hôpital Guéritou vers l’Hôpital Soignetou grâce à une ambulance proposant\n",
    "deux places. \n",
    "\n",
    "Les médecins ne doivent jamais se retrouver en infériorité\n",
    "numérique pour prodiguer leur soins. On peut toutefois avoir des patients\n",
    "dans un hôpital sans médecins. De plus l’ambulance ne fait pas de trajet à\n",
    "vide.\n",
    "\n",
    "Comment va-t-il falloir organiser les diférents trajets pour transporter\n",
    "les 6 personnes d’un hôpital à l’autre, en respectant les contraintes ?\n",
    "\n",
    "#### 1.2 Formalisation du problème recherche\n",
    "\n",
    "Formalisez le problème en extrayant l’information suisante pour représenter\n",
    "les diférentes situations possibles. Proitez de cet exercice pour reviser les\n",
    "notions du cours.\n",
    "\n",
    "1. Donner une representation des états."
   ]
  }
 ],
 "metadata": {
  "language_info": {
   "name": "python"
  },
  "orig_nbformat": 4
 },
 "nbformat": 4,
 "nbformat_minor": 2
}
