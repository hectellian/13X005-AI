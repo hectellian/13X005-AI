{
 "cells": [
  {
   "cell_type": "markdown",
   "metadata": {},
   "source": [
    "# TP1 - AI : Formalisation\n",
    "\n",
    "---"
   ]
  },
  {
   "cell_type": "markdown",
   "metadata": {},
   "source": [
    "### 1. The Three Doctors\n",
    "\n",
    "#### 1.1 Description\n",
    "\n",
    "_Alice, Bob, and Charles are three patients being treated by doctors Xavier, Yolande, and Zoé. Today, these six individuals need to be transferred from Guéritou Hospital to Soignetou Hospital using an ambulance that has two seats. The doctors should never be outnumbered by the patients when administering care. However, it is acceptable for patients to be at a hospital without doctors. Additionally, the ambulance should not make any empty trips.\n",
    "How should the various trips be organized to transport the six people from one hospital to another while adhering to these constraints?_\n",
    "\n",
    "#### 1.2 Problem Formalization\n",
    "\n",
    "Let's formalize the problem by extracting the following information to represent the possible scenarios.\n",
    "\n",
    "1\\. **State Representation**\n",
    "\n",
    "As discussed in class, we will use a 3-coordinate vector $S = (d, p, a)$ to represent the states where:\n",
    "\n",
    "- $d = \\{0, 1, 2, 3\\}$ the nb of doctors,\n",
    "- $p = \\{0, 1, 2, 3\\}$ the nb of patients,\n",
    "- $a = \\{0, 1\\}$ if there is an ambulance or not.\n",
    "\n",
    "Here, each coordinate in the vector can symbolize various elements such as the number of doctors, patients, and the current location of the ambulance, among other possibilities. This enables us to succinctly capture the state of the system at any given time.\n",
    "\n",
    "For example, a vector \\([2, 3, 1]\\) could represent that there are 2 doctors, 3 patients, and the ambulance is at Guéritou Hospital.\n",
    "\n",
    "By utilizing such vectors, we can map out a strategy to transfer all six individuals while abiding by the imposed conditions.\n",
    "\n",
    "> [!NOTE]\n",
    "> Note that by knowing the number of doctors and patients, we can infer the number of patients and doctors at the other hospital. For example, if there are 2 doctors and 3 patients at Guéritou Hospital, then there must be 1 doctor and 0 patients at Soignetou Hospital.\n",
    "\n"
   ]
  },
  {
   "cell_type": "code",
   "execution_count": null,
   "metadata": {},
   "outputs": [],
   "source": []
  }
 ],
 "metadata": {
  "kernelspec": {
   "display_name": "Python 3",
   "language": "python",
   "name": "python3"
  },
  "language_info": {
   "name": "python",
   "version": "3.11.0"
  },
  "orig_nbformat": 4
 },
 "nbformat": 4,
 "nbformat_minor": 2
}
